{
 "cells": [
  {
   "cell_type": "code",
   "execution_count": 1,
   "id": "bfd3517f-3680-4eb7-9fa8-19527451673d",
   "metadata": {},
   "outputs": [
    {
     "name": "stdout",
     "output_type": "stream",
     "text": [
      "Hello, World!\n"
     ]
    }
   ],
   "source": [
    "# Q1.\n",
    "\"\"\"In Python, you can add comments to your code to provide explanations or context for yourself and other developers. \n",
    "Comments are ignored by the Python interpreter and have no impact on the execution of the code.\n",
    "Python supports two types of comments:\n",
    "\n",
    "1.Single-line comments: These comments start with the hash symbol (#) and continue until the end of the line.\n",
    "Anything after the hash symbol on the same line is treated as a comment.\"\"\"\n",
    "# This is a single-line comment\n",
    "print(\"Hello, World!\")  # This is also a comment after the code\n",
    "\n",
    "\"\"\"2.Multi-line comments or docstrings: \n",
    "Python allows multi-line comments, also known as docstrings, which are typically used to document functions, classes, and modules.\n",
    "Docstrings are enclosed in triple quotes (either single or double quotes) and can span multiple lines.\"\"\"\n",
    "\n",
    "\"\"\"\n",
    "This is a multi-line comment or docstring.\n",
    "It provides a detailed description of the function, class, or module.\n",
    "\"\"\"\n",
    "def add_numbers(a, b):\n",
    "    \"\"\"\n",
    "    This function takes two numbers as input and returns their sum.\n",
    "    \"\"\"\n",
    "    return a + b\n"
   ]
  },
  {
   "cell_type": "code",
   "execution_count": null,
   "id": "9b05cb4f-8c5b-42d1-ab8a-8faf554ea075",
   "metadata": {},
   "outputs": [],
   "source": [
    "# Q2.\n",
    "\"\"\"\n",
    "In Python, variables are used to store data values.\n",
    "They act as containers for storing information like numbers, strings, lists, or any other data type.\n",
    "Unlike some other programming languages, Python does not require explicit declaration of variables.\n",
    "You can create a variable simply by assigning a value to it.\n",
    "To declare and assign values to variables in Python, you can follow these rules:\n",
    "1.Choose a valid variable name: The name of a variable must start with a letter (a-z, A-Z) or an underscore (_) and can be followed by letters, digits, or underscores.\n",
    "2.Avoid reserved words: Python has certain reserved words (keywords) that have predefined meanings.\n",
    "3.You cannot use them as variable names. For example, you cannot use words like \"if,\" \"else,\" \"while,\" etc., as variable names.\n",
    "4.Case sensitivity: Python is case-sensitive, which means \"myVariable\" and \"myvariable\" are treated as two different variables.\"\"\""
   ]
  },
  {
   "cell_type": "code",
   "execution_count": null,
   "id": "96297762-209f-4ec5-b317-6c5d6b0a922c",
   "metadata": {},
   "outputs": [],
   "source": [
    "# Q3.\n",
    "\"\"\"In situations where you need more control over type conversion, you can use explicit type conversion or type casting.\n",
    "For this, you can use built-in functions like int(), float(), str(), bool(), list(), tuple(), set(), dict(), etc.\"\"\"\n",
    "num_str = \"25\"\n",
    "num_int = int(num_str)       # Convert string to integer\n",
    "num_float = float(num_str)   # Convert string to float\n",
    "\n",
    "print(num_int)    # Output: 25 (integer)\n",
    "print(num_float)  # Output: 25.0 (float)"
   ]
  },
  {
   "cell_type": "code",
   "execution_count": null,
   "id": "0ba4379d-08a2-40c8-9258-86587f87f6db",
   "metadata": {},
   "outputs": [],
   "source": [
    "# Q4.\n",
    "\"\"\"1.Open the command line (Terminal on macOS and Linux, Command Prompt on Windows).\n",
    "2.Navigate to the directory where your Python script is located using the cd command (Change Directory).\n",
    "3.Execute the Python script using the python command, followed by the name of your script file.\"\"\""
   ]
  },
  {
   "cell_type": "code",
   "execution_count": 2,
   "id": "4f347f8c-32fa-4c36-a6de-f5e630e3d9f3",
   "metadata": {},
   "outputs": [
    {
     "data": {
      "text/plain": [
       "[2, 3]"
      ]
     },
     "execution_count": 2,
     "metadata": {},
     "output_type": "execute_result"
    }
   ],
   "source": [
    "# Q5.\n",
    "l=[1,2,3,4,5]\n",
    "l[1:3:1]"
   ]
  },
  {
   "cell_type": "code",
   "execution_count": 3,
   "id": "dd8a7832-66bd-45d2-be0d-6c984938b4d3",
   "metadata": {},
   "outputs": [],
   "source": [
    "# Q6.\n",
    "\"\"\"In mathematics, a complex number is a number that comprises both a real part and an imaginary part.\n",
    "It is represented in the form a + bj, where a is the real part, b is the imaginary part, and j is the imaginary unit,\n",
    "which is defined as the square root of -1. In other words, j represents the imaginary part, and j^2 is equal to -1.\n",
    "\n",
    "The general form of a complex number is z = a + bj, where:\n",
    "\n",
    "a is the real part (a real number).\n",
    "b is the imaginary part (a real number multiplied by the imaginary unit j).\n",
    "For example, 3 + 4j and -2.5 - 1.7j are both complex numbers.\n",
    "\n",
    "In Python, complex numbers are supported as a built-in data type.\n",
    "To represent a complex number, you can use the complex() constructor or directly write the number using the j suffix.\"\"\"\n",
    "\n",
    "# Using the complex() constructor to create complex numbers\n",
    "z1 = complex(3, 4)    # 3 + 4j\n",
    "\n",
    "# Using the j suffix to represent complex numbers\n",
    "z3 = 2 + 1j   # 2 + 1j\n"
   ]
  },
  {
   "cell_type": "code",
   "execution_count": 4,
   "id": "9f34d882-6260-4faa-b046-aa19d7a2ec4f",
   "metadata": {},
   "outputs": [
    {
     "data": {
      "text/plain": [
       "25"
      ]
     },
     "execution_count": 4,
     "metadata": {},
     "output_type": "execute_result"
    }
   ],
   "source": [
    "# Q7.\n",
    "age=25"
   ]
  },
  {
   "cell_type": "code",
   "execution_count": 5,
   "id": "045b12e6-9c35-4fb9-9559-caabef29e4fd",
   "metadata": {},
   "outputs": [
    {
     "data": {
      "text/plain": [
       "float"
      ]
     },
     "execution_count": 5,
     "metadata": {},
     "output_type": "execute_result"
    }
   ],
   "source": [
    "# Q8.\n",
    "price=9.99\n",
    "type(price)\n",
    "#The variable is of flaot data type."
   ]
  },
  {
   "cell_type": "code",
   "execution_count": 6,
   "id": "537f543c-9fb1-40cf-9409-bfab3cbe768f",
   "metadata": {},
   "outputs": [
    {
     "name": "stdout",
     "output_type": "stream",
     "text": [
      "Adwait Linge\n"
     ]
    }
   ],
   "source": [
    "# Q9.\n",
    "name=\"Adwait Linge\"\n",
    "print(name)\n",
    "\n",
    "# We can print it using print fucntion."
   ]
  },
  {
   "cell_type": "code",
   "execution_count": 7,
   "id": "e772b444-b60e-4fc0-8212-b9c9c53ce1cc",
   "metadata": {},
   "outputs": [
    {
     "data": {
      "text/plain": [
       "'World'"
      ]
     },
     "execution_count": 7,
     "metadata": {},
     "output_type": "execute_result"
    }
   ],
   "source": [
    "# Q10.\n",
    "s=\"Hello World!\"\n",
    "s[6:11:1]"
   ]
  },
  {
   "cell_type": "code",
   "execution_count": null,
   "id": "bb85667f-c8ed-4f34-bcae-2964056ba85e",
   "metadata": {},
   "outputs": [],
   "source": [
    "# Q11.\n",
    "is_student=True"
   ]
  },
  {
   "cell_type": "code",
   "execution_count": null,
   "id": "a415dec4-6508-46ad-9b9a-cb766ffae246",
   "metadata": {},
   "outputs": [],
   "source": []
  }
 ],
 "metadata": {
  "kernelspec": {
   "display_name": "Python 3 (ipykernel)",
   "language": "python",
   "name": "python3"
  },
  "language_info": {
   "codemirror_mode": {
    "name": "ipython",
    "version": 3
   },
   "file_extension": ".py",
   "mimetype": "text/x-python",
   "name": "python",
   "nbconvert_exporter": "python",
   "pygments_lexer": "ipython3",
   "version": "3.10.8"
  }
 },
 "nbformat": 4,
 "nbformat_minor": 5
}
