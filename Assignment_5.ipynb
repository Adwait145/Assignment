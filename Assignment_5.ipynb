{
 "cells": [
  {
   "cell_type": "code",
   "execution_count": 1,
   "id": "c912c884-6618-417e-829c-9148c3af003b",
   "metadata": {},
   "outputs": [],
   "source": [
    "# Q1.\n",
    "class Vehicle:\n",
    "    def __init__(self, name_of_vehicle, max_speed, average_of_vehicle):\n",
    "        self.name_of_vehicle = name_of_vehicle\n",
    "        self.max_speed = max_speed\n",
    "        self.average_of_vehicle = average_of_vehicle"
   ]
  },
  {
   "cell_type": "code",
   "execution_count": 3,
   "id": "4bcea1e9-9b1c-4498-a77a-81255716d79b",
   "metadata": {},
   "outputs": [],
   "source": [
    "# Q2.\n",
    "class Car(Vehicle):\n",
    "    \n",
    "    def seating_capacity(self, capacity):\n",
    "        return f\"{self.name_of_vehicle} has a seating capacity of {capacity} people.\""
   ]
  },
  {
   "cell_type": "code",
   "execution_count": 13,
   "id": "aae700e5-6b00-45c0-b4af-fac8a27342da",
   "metadata": {},
   "outputs": [
    {
     "name": "stdout",
     "output_type": "stream",
     "text": [
      "This is method A.\n",
      "This is method B.\n",
      "This is method C.\n"
     ]
    }
   ],
   "source": [
    "# Q3.\n",
    "\"\"\"Multiple inheritance is a feature in object-oriented programming where a class can inherit attributes \n",
    "and methods from more than one parent class.\n",
    "In other words, a class can have multiple base classes from which it derives its functionality.\"\"\"\n",
    "\n",
    "class A:\n",
    "    def method_A(self):\n",
    "        print(\"This is method A.\")\n",
    "\n",
    "\n",
    "class B:\n",
    "    def method_B(self):\n",
    "        print(\"This is method B.\")\n",
    "\n",
    "\n",
    "class C(A, B):\n",
    "    def method_C(self):\n",
    "        print(\"This is method C.\")\n",
    "\n",
    "# Example usage:\n",
    "obj = C()\n",
    "obj.method_A()  # Output: This is method A.\n",
    "obj.method_B()  # Output: This is method B.\n",
    "obj.method_C()  # Output: This is method C\n",
    "\n",
    "#In the example above, A and B are parent classes, and C is the child class inheriting from both A and B.\n",
    "#As a result, the object obj of class C has access to methods method_A, method_B, and method_C, making use of multiple inheritance."
   ]
  },
  {
   "cell_type": "code",
   "execution_count": 14,
   "id": "1710dde7-042d-4400-9640-d3e90c2f2a53",
   "metadata": {},
   "outputs": [
    {
     "name": "stdout",
     "output_type": "stream",
     "text": [
      "30\n",
      "35\n"
     ]
    }
   ],
   "source": [
    "# Q4.\n",
    "\"\"\"In Python, getter and setter methods are used to control the access and modification of class attributes (instance variables).\n",
    "They are part of the concept called \"encapsulation,\" which means that the internal representation of an object is hidden from the outside,\n",
    "and access to the data is controlled through methods.\n",
    "\n",
    "A getter method is used to get the value of an attribute, and a setter method is used to set or modify the value of an attribute.\n",
    "By using getter and setter methods, we can enforce data validation and add additional logic to attribute access.\"\"\"\n",
    "\n",
    "class Person:\n",
    "    def __init__(self, name, age):\n",
    "        self.name = name\n",
    "        self._age = age  # Note: Conventionally, private attributes start with an underscore\n",
    "\n",
    "    def get_age(self):\n",
    "        return self._age\n",
    "\n",
    "    def set_age(self, new_age):\n",
    "        if 0 <= new_age <= 120:\n",
    "            self._age = new_age\n",
    "        else:\n",
    "            raise ValueError(\"Age must be between 0 and 120.\")\n",
    "\n",
    "# Example:\n",
    "person1 = Person(\"Alice\", 30)\n",
    "\n",
    "# Using the getter method to get the age\n",
    "print(person1.get_age()) \n",
    "\n",
    "# Using the setter method to update the age\n",
    "person1.set_age(35)\n",
    "print(person1.get_age())  "
   ]
  },
  {
   "cell_type": "code",
   "execution_count": 17,
   "id": "3cdcca7b-6b48-4b58-ac7b-ae8568956f4e",
   "metadata": {},
   "outputs": [
    {
     "name": "stdout",
     "output_type": "stream",
     "text": [
      "Area of generic shape: 0\n",
      "Area of rectangle: 20\n"
     ]
    }
   ],
   "source": [
    "# Q5.\n",
    "\"\"\"Method overriding is a concept in object-oriented programming where a subclass provides a specific \n",
    "implementation of a method that is already defined in its parent class. This allows the subclass to customize\n",
    "the behavior of the inherited method without modifying the original implementation in the parent class.\"\"\"\n",
    "\n",
    "class Shape:\n",
    "    def area(self):\n",
    "        return 0\n",
    "\n",
    "    \n",
    "class Rectangle(Shape):\n",
    "    def __init__(self, width, height):\n",
    "        self.width = width\n",
    "        self.height = height\n",
    "\n",
    "    def area(self):\n",
    "        return self.width * self.height\n",
    "\n",
    "\n",
    "# Example:\n",
    "shape = Shape()\n",
    "print(\"Area of generic shape:\", shape.area())  \n",
    "\n",
    "rectangle = Rectangle(4, 5)\n",
    "print(\"Area of rectangle:\", rectangle.area()) \n",
    "\n"
   ]
  },
  {
   "cell_type": "code",
   "execution_count": null,
   "id": "ae7b99f5-23b2-4b1a-bdb1-f84190030c43",
   "metadata": {},
   "outputs": [],
   "source": []
  }
 ],
 "metadata": {
  "kernelspec": {
   "display_name": "Python 3 (ipykernel)",
   "language": "python",
   "name": "python3"
  },
  "language_info": {
   "codemirror_mode": {
    "name": "ipython",
    "version": 3
   },
   "file_extension": ".py",
   "mimetype": "text/x-python",
   "name": "python",
   "nbconvert_exporter": "python",
   "pygments_lexer": "ipython3",
   "version": "3.10.8"
  }
 },
 "nbformat": 4,
 "nbformat_minor": 5
}
