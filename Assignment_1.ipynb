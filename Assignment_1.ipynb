{
 "cells": [
  {
   "cell_type": "code",
   "execution_count": 4,
   "id": "40718acf-55a4-41e7-b73c-4b7aecde243e",
   "metadata": {},
   "outputs": [],
   "source": [
    "# Q1.\n",
    "a=\"adwait\"\n",
    "l=[1,2,3,4,5]\n",
    "f=0.25\n",
    "t=(1,5,9)"
   ]
  },
  {
   "cell_type": "code",
   "execution_count": null,
   "id": "5fd5b088-b243-42c4-bf58-47c6909d6fb2",
   "metadata": {},
   "outputs": [],
   "source": [
    "# Q2.\n",
    "1.string\n",
    "2.string\n",
    "3.list\n",
    "4.int"
   ]
  },
  {
   "cell_type": "code",
   "execution_count": 15,
   "id": "7ba192f0-0f58-4a45-ae66-537441e3b1d8",
   "metadata": {},
   "outputs": [],
   "source": [
    "# Q3.\n",
    "#1.It is a division operator used to divide numbers.Eg.a=5/2, so here a will be equal to 2.5.\n",
    "#2.It is a modulo operator used to get the remaider on dividing two numbers.Eg a=5%2, here a will be equal to 1.\n",
    "#3.It is a floor dividson operator used to get the integer quotient on dividing two numbers.Eg a=5//2, here a will be equal to 2.\n",
    "#4.It is a power(exponent) operator used to get the power of any number.Eg a=5**2, here a will be equal to 25."
   ]
  },
  {
   "cell_type": "code",
   "execution_count": 16,
   "id": "f0b28a33-f8da-42fc-96e6-a2b08ea81f4c",
   "metadata": {},
   "outputs": [
    {
     "name": "stdout",
     "output_type": "stream",
     "text": [
      "1\n",
      "<class 'int'>\n",
      "2\n",
      "<class 'int'>\n",
      "adw\n",
      "<class 'str'>\n",
      "5.5\n",
      "<class 'float'>\n",
      "True\n",
      "<class 'bool'>\n",
      "3.33\n",
      "<class 'float'>\n",
      "6\n",
      "<class 'int'>\n",
      "False\n",
      "<class 'bool'>\n",
      "a\n",
      "<class 'str'>\n",
      "15\n",
      "<class 'int'>\n"
     ]
    }
   ],
   "source": [
    "# Q4.\n",
    "l=[1,2,'adw',5.5,True,3.33,6,False,'a',15]\n",
    "for i in l:\n",
    "    print(i)\n",
    "    print(type(i))"
   ]
  },
  {
   "cell_type": "code",
   "execution_count": 24,
   "id": "b32884ca-5c83-4121-bd2f-b1e2cee7ec97",
   "metadata": {},
   "outputs": [
    {
     "name": "stdout",
     "output_type": "stream",
     "text": [
      "a is divisible by b\n",
      "a is divisible by b 6 times\n"
     ]
    }
   ],
   "source": [
    "# Q5.\n",
    "a,b=64,2\n",
    "count=0\n",
    "if a%b==0 :\n",
    "    print(\"a is divisible by b\")\n",
    "    while(a>=b):\n",
    "        count+=1\n",
    "        a=a/b   \n",
    "    print(\"a is divisible by b\",count,\"times\")\n",
    "else:\n",
    "    print(\"a is not divisible by b\")\n",
    "    "
   ]
  },
  {
   "cell_type": "code",
   "execution_count": 28,
   "id": "8e6a17b0-17fe-431c-b63c-3c5ea81f2373",
   "metadata": {},
   "outputs": [
    {
     "name": "stdout",
     "output_type": "stream",
     "text": [
      "No,  1 is not divisble by 3\n",
      "No,  2 is not divisble by 3\n",
      "Yes, 3 is divisible by 3\n",
      "No,  4 is not divisble by 3\n",
      "No,  5 is not divisble by 3\n",
      "Yes, 6 is divisible by 3\n",
      "No,  7 is not divisble by 3\n",
      "No,  8 is not divisble by 3\n",
      "Yes, 9 is divisible by 3\n",
      "No,  10 is not divisble by 3\n",
      "No,  11 is not divisble by 3\n",
      "Yes, 12 is divisible by 3\n",
      "No,  13 is not divisble by 3\n",
      "No,  14 is not divisble by 3\n",
      "Yes, 15 is divisible by 3\n",
      "No,  16 is not divisble by 3\n",
      "No,  17 is not divisble by 3\n",
      "Yes, 18 is divisible by 3\n",
      "No,  19 is not divisble by 3\n",
      "No,  20 is not divisble by 3\n",
      "Yes, 21 is divisible by 3\n",
      "No,  22 is not divisble by 3\n",
      "No,  23 is not divisble by 3\n",
      "Yes, 24 is divisible by 3\n",
      "No,  25 is not divisble by 3\n"
     ]
    }
   ],
   "source": [
    "# Q6.\n",
    "l=[1,2,3,4,5,6,7,8,9,10,11,12,13,14,15,16,17,18,19,20,21,22,23,24,25]\n",
    "for i in l :\n",
    "    if i%3==0 :\n",
    "        print(\"Yes,\",i,\"is divisible by 3\")\n",
    "    else:\n",
    "        print(\"No, \",i,\"is not divisble by 3\")"
   ]
  },
  {
   "cell_type": "code",
   "execution_count": null,
   "id": "2d91e9d6-0a71-4abb-a21c-a865fd2dd76f",
   "metadata": {},
   "outputs": [],
   "source": [
    "#Q7.\n",
    "\"\"\"Anything is said to be mutable when anything can be modified or changed.\n",
    "The term \"mutable\" in Python refers to an object's capacity to modify its values. \n",
    "These are frequently the things that hold a data collection.\n",
    "Eg.Lists, Dictionaries, sets etc.\n",
    "\n",
    "Immutable refers to a state in which no change can occur over time.\n",
    "A Python object is referred to as immutable if we cannot change its value over time. \n",
    "The value of these Python objects is fixed once they are made.\n",
    "Eg. Tuples, Strings etc.\"\"\"\n",
    "\n"
   ]
  },
  {
   "cell_type": "code",
   "execution_count": null,
   "id": "6734e269-163c-446c-b2f8-e9fc58c9190f",
   "metadata": {},
   "outputs": [],
   "source": []
  },
  {
   "cell_type": "code",
   "execution_count": null,
   "id": "2f98e526-ee86-4715-bb0d-9d51a7ee71dc",
   "metadata": {},
   "outputs": [],
   "source": []
  }
 ],
 "metadata": {
  "kernelspec": {
   "display_name": "Python 3 (ipykernel)",
   "language": "python",
   "name": "python3"
  },
  "language_info": {
   "codemirror_mode": {
    "name": "ipython",
    "version": 3
   },
   "file_extension": ".py",
   "mimetype": "text/x-python",
   "name": "python",
   "nbconvert_exporter": "python",
   "pygments_lexer": "ipython3",
   "version": "3.10.8"
  }
 },
 "nbformat": 4,
 "nbformat_minor": 5
}
