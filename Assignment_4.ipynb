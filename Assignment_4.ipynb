{
 "cells": [
  {
   "cell_type": "code",
   "execution_count": 1,
   "id": "600eab3f-636d-40a7-a1e7-5fd3f7662031",
   "metadata": {},
   "outputs": [
    {
     "name": "stdout",
     "output_type": "stream",
     "text": [
      "[(1, 'orange'), (2, 'grape'), (3, 'apple'), (5, 'cherry'), (6, 'banana')]\n"
     ]
    }
   ],
   "source": [
    "# Q1.\n",
    "# Sample list of tuples\n",
    "my_list = [(3, 'apple'), (1, 'orange'), (6, 'banana'), (2, 'grape'), (5, 'cherry')]\n",
    "\n",
    "# Sort the list of tuples based on the integer value using a lambda function\n",
    "sorted_list = sorted(my_list, key=lambda x: x[0])\n",
    "\n",
    "# Print the sorted list\n",
    "print(sorted_list)\n"
   ]
  },
  {
   "cell_type": "code",
   "execution_count": 2,
   "id": "d312abbd-0372-411f-b30a-ad7b8ea693c3",
   "metadata": {},
   "outputs": [
    {
     "name": "stdout",
     "output_type": "stream",
     "text": [
      "[1, 4, 9, 16, 25, 36, 49, 64, 81, 100]\n"
     ]
    }
   ],
   "source": [
    "# Q2.\n",
    "# Sample list of integers\n",
    "numbers = [1, 2, 3, 4, 5, 6, 7, 8, 9, 10]\n",
    "\n",
    "# Use the map() function with a lambda function to find the squares\n",
    "squares = map(lambda x: x ** 2, numbers)\n",
    "\n",
    "# Convert the map object to a list (optional, only if you want to print the squares as a list)\n",
    "squares_list = list(squares)\n",
    "\n",
    "# Print the squares of the numbers\n",
    "print(squares_list)\n"
   ]
  },
  {
   "cell_type": "code",
   "execution_count": 3,
   "id": "3cc9f1ec-337a-4a7c-8b0a-71434326f447",
   "metadata": {},
   "outputs": [
    {
     "name": "stdout",
     "output_type": "stream",
     "text": [
      "('1', '2', '3', '4', '5', '6', '7', '8', '9', '10')\n"
     ]
    }
   ],
   "source": [
    "# Q3.\n",
    "# Given list of integers\n",
    "numbers = [1, 2, 3, 4, 5, 6, 7, 8, 9, 10]\n",
    "\n",
    "# Use the map() function with a lambda function to convert the integers to strings\n",
    "string_tuple = tuple(map(lambda x: str(x), numbers))\n",
    "\n",
    "# Print the tuple of strings\n",
    "print(string_tuple)\n",
    "\n"
   ]
  },
  {
   "cell_type": "code",
   "execution_count": 4,
   "id": "c36143c9-c02a-4855-8cf8-ea7a315b496b",
   "metadata": {},
   "outputs": [
    {
     "name": "stdout",
     "output_type": "stream",
     "text": [
      "Product of numbers from 1 to 25: 15511210043330985984000000\n"
     ]
    }
   ],
   "source": [
    "# Q4.\n",
    "from functools import reduce\n",
    "\n",
    "# Create a list containing numbers from 1 to 25\n",
    "numbers = list(range(1, 26))\n",
    "\n",
    "# Use the reduce() function with a lambda function to compute the product\n",
    "product = reduce(lambda x, y: x * y, numbers)\n",
    "\n",
    "# Print the product\n",
    "print(\"Product of numbers from 1 to 25:\", product)\n"
   ]
  },
  {
   "cell_type": "code",
   "execution_count": 5,
   "id": "24452731-5c72-4f10-b936-b12dfbe3694a",
   "metadata": {},
   "outputs": [
    {
     "name": "stdout",
     "output_type": "stream",
     "text": [
      "Numbers divisible by 2 and 3: [6, 60, 90, 120]\n"
     ]
    }
   ],
   "source": [
    "# Q5.\n",
    "# Given list of numbers\n",
    "numbers = [2, 3, 6, 9, 27, 60, 90, 120, 55, 46]\n",
    "\n",
    "# Use the filter() function with a lambda function to filter numbers divisible by 2 and 3\n",
    "divisible_by_2_and_3 = list(filter(lambda x: x % 2 == 0 and x % 3 == 0, numbers))\n",
    "\n",
    "# Print the filtered numbers\n",
    "print(\"Numbers divisible by 2 and 3:\", divisible_by_2_and_3)\n"
   ]
  },
  {
   "cell_type": "code",
   "execution_count": 6,
   "id": "de839d9f-223e-4ee6-abc7-421809db523a",
   "metadata": {},
   "outputs": [
    {
     "name": "stdout",
     "output_type": "stream",
     "text": [
      "Palindromes in the list: ['php', 'aba', 'radar', 'level']\n"
     ]
    }
   ],
   "source": [
    "# Q6.\n",
    "# Given list of strings\n",
    "strings_list = ['python', 'php', 'aba', 'radar', 'level']\n",
    "\n",
    "# Use the filter() function with a lambda function to find palindromes\n",
    "palindromes = list(filter(lambda word: word == word[::-1], strings_list))\n",
    "\n",
    "# Print the palindromes\n",
    "print(\"Palindromes in the list:\", palindromes)\n"
   ]
  },
  {
   "cell_type": "code",
   "execution_count": null,
   "id": "c14f71d7-7f4c-4734-a0d6-4ec22ca239b9",
   "metadata": {},
   "outputs": [],
   "source": []
  },
  {
   "cell_type": "code",
   "execution_count": null,
   "id": "3c0a02db-b9fc-42ad-9429-ba12ff9c1bbb",
   "metadata": {},
   "outputs": [],
   "source": []
  },
  {
   "cell_type": "code",
   "execution_count": null,
   "id": "52544776-08a0-4f69-a9ff-528959e44a1e",
   "metadata": {},
   "outputs": [],
   "source": []
  },
  {
   "cell_type": "code",
   "execution_count": null,
   "id": "c74b32f8-a28c-4f3d-b251-c9c4c1ecafe2",
   "metadata": {},
   "outputs": [],
   "source": []
  },
  {
   "cell_type": "code",
   "execution_count": null,
   "id": "1c92a1e2-5a8b-40fb-8569-6cfbace8b593",
   "metadata": {},
   "outputs": [],
   "source": []
  },
  {
   "cell_type": "code",
   "execution_count": null,
   "id": "da10a600-7979-4dac-a681-f8ac004dfda7",
   "metadata": {},
   "outputs": [],
   "source": []
  }
 ],
 "metadata": {
  "kernelspec": {
   "display_name": "Python 3 (ipykernel)",
   "language": "python",
   "name": "python3"
  },
  "language_info": {
   "codemirror_mode": {
    "name": "ipython",
    "version": 3
   },
   "file_extension": ".py",
   "mimetype": "text/x-python",
   "name": "python",
   "nbconvert_exporter": "python",
   "pygments_lexer": "ipython3",
   "version": "3.10.8"
  }
 },
 "nbformat": 4,
 "nbformat_minor": 5
}
