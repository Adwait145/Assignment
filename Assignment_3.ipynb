{
 "cells": [
  {
   "cell_type": "code",
   "execution_count": 1,
   "id": "41e2022a-bc2c-4095-a026-e640a543eb18",
   "metadata": {},
   "outputs": [
    {
     "name": "stdout",
     "output_type": "stream",
     "text": [
      "[1, 3, 5, 7, 9, 11, 13, 15, 17, 19, 21, 23, 25]\n"
     ]
    }
   ],
   "source": [
    "# Q1.\n",
    "# def keyword is used to define a function in python\n",
    "def get_odd_numbers():\n",
    "    odd_numbers = [num for num in range(1, 26) if num % 2 != 0]\n",
    "    return odd_numbers\n",
    "\n",
    "# Call the function and print the result\n",
    "print(get_odd_numbers())\n"
   ]
  },
  {
   "cell_type": "code",
   "execution_count": 3,
   "id": "43da8912-5f49-493e-a392-640cb511935d",
   "metadata": {},
   "outputs": [
    {
     "name": "stdout",
     "output_type": "stream",
     "text": [
      "1\n",
      "2\n",
      "3\n",
      "hello\n",
      "world\n",
      "True\n",
      "42\n",
      "[1, 2, 3]\n",
      "name: Alice\n",
      "age: 30\n",
      "city: New York\n",
      "country: USA\n",
      "language: Python\n",
      "version: 3.9\n"
     ]
    }
   ],
   "source": [
    "# Q2.\n",
    "\"\"\"*args:\n",
    "The *args syntax is used when you want to pass a variable number of positional arguments to a function.\n",
    "It allows you to pass any number of positional arguments, and they will be collected into a tuple inside the function.\"\"\"\n",
    "\n",
    "def print_args(*args):\n",
    "    for arg in args:\n",
    "        print(arg)\n",
    "\n",
    "# Call the function with different arguments\n",
    "print_args(1, 2, 3)\n",
    "print_args('hello', 'world')\n",
    "print_args(True, 42, [1, 2, 3])\n",
    "\n",
    "\"\"\"**kwargs:\n",
    "The **kwargs syntax is used when you want to pass a variable number of keyword arguments to a function.\n",
    "It allows you to pass any number of keyword arguments, and they will be collected into a dictionary inside the function,\n",
    "where the keys are the argument names and the values are the corresponding argument values.\"\"\"\n",
    "\n",
    "def print_kwargs(**kwargs):\n",
    "    for key, value in kwargs.items():\n",
    "        print(f\"{key}: {value}\")\n",
    "\n",
    "# Call the function with different keyword arguments\n",
    "print_kwargs(name='Alice', age=30)\n",
    "print_kwargs(city='New York', country='USA')\n",
    "print_kwargs(language='Python', version='3.9')\n"
   ]
  },
  {
   "cell_type": "code",
   "execution_count": 4,
   "id": "a4024c16-d81d-4cf5-9279-f3f47cd564f5",
   "metadata": {},
   "outputs": [
    {
     "name": "stdout",
     "output_type": "stream",
     "text": [
      "2\n",
      "4\n",
      "6\n",
      "8\n",
      "10\n"
     ]
    }
   ],
   "source": [
    "# Q3.\n",
    "\"\"\"In Python, an iterator is an object that allows you to traverse a sequence of elements one by one, \n",
    "without having to know the underlying structure of the data. It provides two essential methods:\n",
    "\n",
    "1.iter(): This method is used to initialize the iterator object from an iterable.\n",
    "          It returns an iterator object that can be used to iterate over the elements.\n",
    "2.next(): This method is used to fetch the next element from the iterator.\n",
    "          When there are no more elements to be returned, it raises the StopIteration exception.\n",
    "\n",
    "Let's use these methods to print the first five elements of the given list [2, 4, 6, 8, 10, 12, 14, 16, 18, 20]:\"\"\"\n",
    "\n",
    "# Create an iterator from the list\n",
    "my_list = [2, 4, 6, 8, 10, 12, 14, 16, 18, 20]\n",
    "my_iterator = iter(my_list)\n",
    "\n",
    "# Use the iterator to print the first five elements\n",
    "for _ in range(5):\n",
    "    element = next(my_iterator)\n",
    "    print(element)\n"
   ]
  },
  {
   "cell_type": "code",
   "execution_count": 5,
   "id": "66640d0e-d293-4f13-8157-e0edee0b965c",
   "metadata": {},
   "outputs": [
    {
     "name": "stdout",
     "output_type": "stream",
     "text": [
      "2\n",
      "4\n",
      "6\n",
      "8\n",
      "10\n"
     ]
    }
   ],
   "source": [
    "# Q4.\n",
    "\"\"\"A generator function is a special type of function that returns an iterator, \n",
    "which can be used to generate a sequence of values one at a time.\n",
    "Unlike regular functions that use return to return a single value and terminate the function,\n",
    "generator functions use the yield keyword to produce a series of values, allowing them to be paused and resumed during iteration. \n",
    "This makes them memory-efficient, as they do not need to store the entire sequence in memory at once.\"\"\"\n",
    "\n",
    "def even_numbers_generator():\n",
    "    num = 2\n",
    "    count = 0\n",
    "    while count < 5:\n",
    "        yield num\n",
    "        num += 2\n",
    "        count += 1\n",
    "\n",
    "# Create a generator object\n",
    "even_gen = even_numbers_generator()\n",
    "\n",
    "# Use a loop to iterate and print the generated even numbers\n",
    "for number in even_gen:\n",
    "    print(number)\n",
    "       "
   ]
  },
  {
   "cell_type": "code",
   "execution_count": 13,
   "id": "cf13011a-4290-4eb4-acbb-716108cbf482",
   "metadata": {},
   "outputs": [
    {
     "name": "stdout",
     "output_type": "stream",
     "text": [
      "2\n",
      "3\n",
      "5\n",
      "7\n",
      "11\n",
      "13\n",
      "17\n",
      "19\n",
      "23\n",
      "29\n",
      "31\n",
      "37\n",
      "41\n",
      "43\n",
      "47\n",
      "53\n",
      "59\n",
      "61\n",
      "67\n",
      "71\n"
     ]
    }
   ],
   "source": [
    "# Q5.\n",
    "def is_prime(num):\n",
    "    if num < 2:\n",
    "        return False\n",
    "    for i in range(2, int(num**0.5) + 1):\n",
    "        if num % i == 0:\n",
    "            return False\n",
    "    return True\n",
    "\n",
    "def prime_generator():\n",
    "    num = 2\n",
    "    count = 0\n",
    "    while count < 20:\n",
    "        if is_prime(num):\n",
    "            yield num\n",
    "            count += 1\n",
    "        num += 1\n",
    "\n",
    "# Create a generator object\n",
    "prime_gen = prime_generator()\n",
    "\n",
    "# Use the next() method to print the first 20 prime numbers\n",
    "for i in range(20):\n",
    "    print(next(prime_gen))\n"
   ]
  },
  {
   "cell_type": "code",
   "execution_count": 35,
   "id": "7c35c506-1d52-4800-a851-fded42220669",
   "metadata": {},
   "outputs": [
    {
     "name": "stdout",
     "output_type": "stream",
     "text": [
      "[0, 1, 1, 2, 3, 5, 8, 13, 21, 34]\n"
     ]
    }
   ],
   "source": [
    "# Q6.\n",
    "def fibonacci_sequence(n):\n",
    "    fib_sequence = [0, 1]\n",
    "    while len(fib_sequence) < n:\n",
    "        next_num = fib_sequence[-1] + fib_sequence[-2]\n",
    "        fib_sequence.append(next_num)\n",
    "    return fib_sequence\n",
    "\n",
    "# Print the first 10 Fibonacci numbers\n",
    "first_10_fibonacci = fibonacci_sequence(10)\n",
    "print(first_10_fibonacci)\n",
    "\n",
    "        \n",
    "    "
   ]
  },
  {
   "cell_type": "code",
   "execution_count": null,
   "id": "c5ccf915-8763-49a5-a499-981ea400c538",
   "metadata": {},
   "outputs": [],
   "source": [
    "# Q7.\n",
    "input_string = 'pwskills'\n",
    "output_list = [char for char in input_string if char in 'pwskills']\n",
    "print(output_list)\n"
   ]
  },
  {
   "cell_type": "code",
   "execution_count": 59,
   "id": "716f2382-6f5d-4f4c-bc41-4e83784aaf5b",
   "metadata": {},
   "outputs": [
    {
     "name": "stdin",
     "output_type": "stream",
     "text": [
      "Enter a number:  121\n"
     ]
    },
    {
     "name": "stdout",
     "output_type": "stream",
     "text": [
      "121 is a palindrome.\n"
     ]
    }
   ],
   "source": [
    "# Q8.\n",
    "def is_palindrome(number):\n",
    "    original_number = number\n",
    "    reversed_number = 0\n",
    "\n",
    "    while number > 0:\n",
    "        remainder = number % 10\n",
    "        reversed_number = reversed_number * 10 + remainder\n",
    "        number = number // 10\n",
    "\n",
    "    return original_number == reversed_number\n",
    "\n",
    "# Test the function\n",
    "num = int(input(\"Enter a number: \"))\n",
    "\n",
    "if is_palindrome(num):\n",
    "    print(f\"{num} is a palindrome.\")\n",
    "else:\n",
    "    print(f\"{num} is not a palindrome.\")\n"
   ]
  },
  {
   "cell_type": "code",
   "execution_count": 60,
   "id": "fb71219e-4966-4029-ac0a-adba0084add4",
   "metadata": {},
   "outputs": [
    {
     "name": "stdout",
     "output_type": "stream",
     "text": [
      "[1, 3, 5, 7, 9, 11, 13, 15, 17, 19, 21, 23, 25, 27, 29, 31, 33, 35, 37, 39, 41, 43, 45, 47, 49, 51, 53, 55, 57, 59, 61, 63, 65, 67, 69, 71, 73, 75, 77, 79, 81, 83, 85, 87, 89, 91, 93, 95, 97, 99]\n"
     ]
    }
   ],
   "source": [
    "# Q9.\n",
    "# Create a list of numbers from 1 to 100 using list comprehension\n",
    "numbers = [num for num in range(1, 101)]\n",
    "\n",
    "# Use another list comprehension to filter out odd numbers\n",
    "odd_numbers = [num for num in numbers if num % 2 != 0]\n",
    "\n",
    "# Print the odd numbers\n",
    "print(odd_numbers)\n"
   ]
  },
  {
   "cell_type": "code",
   "execution_count": null,
   "id": "9fbe55ca-0af6-4a27-bbb0-2c5c693236c4",
   "metadata": {},
   "outputs": [],
   "source": []
  },
  {
   "cell_type": "code",
   "execution_count": null,
   "id": "8acb5dae-5cce-4cbf-862e-1b6fd4261dc2",
   "metadata": {},
   "outputs": [],
   "source": []
  },
  {
   "cell_type": "code",
   "execution_count": null,
   "id": "ec5f4f41-dc7d-4f56-aa7e-ae04013204f1",
   "metadata": {},
   "outputs": [],
   "source": []
  }
 ],
 "metadata": {
  "kernelspec": {
   "display_name": "Python 3 (ipykernel)",
   "language": "python",
   "name": "python3"
  },
  "language_info": {
   "codemirror_mode": {
    "name": "ipython",
    "version": 3
   },
   "file_extension": ".py",
   "mimetype": "text/x-python",
   "name": "python",
   "nbconvert_exporter": "python",
   "pygments_lexer": "ipython3",
   "version": "3.10.8"
  }
 },
 "nbformat": 4,
 "nbformat_minor": 5
}
