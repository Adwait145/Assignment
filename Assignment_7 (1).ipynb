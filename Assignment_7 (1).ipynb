{
 "cells": [
  {
   "cell_type": "code",
   "execution_count": 1,
   "id": "3e1f74c6-bf8b-4cce-9aad-644615c06f30",
   "metadata": {},
   "outputs": [
    {
     "name": "stdout",
     "output_type": "stream",
     "text": [
      "Area of Circle: 78.5\n",
      "Area of Rectangle: 24\n"
     ]
    }
   ],
   "source": [
    "\n",
    "# #  Q1. Abstraction in OOPs:\n",
    "# # Abstraction is one of the four fundamental principles of Object-Oriented Programming (OOPs). \n",
    "# It is the process of simplifying complex systems by showing only essential features to the outside world while hiding unnecessary details.\n",
    "# In other words, abstraction allows you to focus on what an object does rather than how it does it.\n",
    "\n",
    "# # In OOP, abstraction is achieved through abstract classes and interfaces, \n",
    "# which define the structure and behavior of objects without providing implementation details for all methods. \n",
    "# Abstract classes contain abstract methods (methods without implementation), and they cannot be instantiated directly.\n",
    "# Instead, they serve as blueprints for concrete classes, which provide concrete implementations for the abstract methods.\n",
    "\n",
    "# # Example:\n",
    "# # Consider a basic abstract class Shape, which defines an abstract method area() for calculating the area of different shapes.\n",
    "# Concrete classes like Circle and Rectangle will inherit from Shape and provide specific implementations for the area() method. \n",
    "\n",
    "from abc import ABC, abstractmethod\n",
    "\n",
    "class Shape(ABC):\n",
    "    @abstractmethod\n",
    "    def area(self):\n",
    "        pass\n",
    "\n",
    "\n",
    "class Circle(Shape):\n",
    "    def __init__(self, radius):\n",
    "        self.radius = radius\n",
    "\n",
    "    def area(self):\n",
    "        return 3.14 * self.radius * self.radius\n",
    "\n",
    "\n",
    "class Rectangle(Shape):\n",
    "    def __init__(self, length, width):\n",
    "        self.length = length\n",
    "        self.width = width\n",
    "\n",
    "    def area(self):\n",
    "        return self.length * self.width\n",
    "\n",
    "# Creating objects from concrete classes\n",
    "circle = Circle(5)\n",
    "rectangle = Rectangle(4, 6)\n",
    "\n",
    "print(\"Area of Circle:\", circle.area())       # Output: Area of Circle: 78.5\n",
    "print(\"Area of Rectangle:\", rectangle.area()) # Output: Area of Rectangle: 24"
   ]
  },
  {
   "cell_type": "code",
   "execution_count": null,
   "id": "92f86bce-062f-48e2-904c-f7e4d0e31159",
   "metadata": {},
   "outputs": [],
   "source": [
    "# Q2. Difference between Abstraction and Encapsulation:\n",
    "\n",
    "# Abstraction:\n",
    "\n",
    "# Abstraction focuses on hiding the internal implementation details and showing only relevant information to the outside world.\n",
    "# It is achieved using abstract classes and interfaces, where abstract methods are declared but not implemented.\n",
    "# Abstraction provides a simplified view of objects and their behavior.\n",
    "# It allows you to deal with complex systems by providing clear and essential interfaces.\n",
    "# Example: The Shape abstract class with the abstract method area() provides an abstraction for calculating the area of different shapes,\n",
    "# without providing specific implementations.\n",
    "# Encapsulation:\n",
    "\n",
    "# Encapsulation focuses on bundling data and methods that operate on that data within a single unit (class).\n",
    "# It is achieved by making attributes private and providing public methods (getters and setters) to access and modify those attributes.\n",
    "# Encapsulation ensures data security and maintains the integrity of an object's state.\n",
    "# It helps in preventing unauthorized access to internal data and allows controlled interaction with the object.\n",
    "# Example: In the Person class, private attributes like name and age are encapsulated, and public methods like get_name() and set_age() \n",
    "# are used to access and modify these attributes."
   ]
  },
  {
   "cell_type": "code",
   "execution_count": null,
   "id": "658c21a4-ead2-4534-a441-b83b6c3f0b26",
   "metadata": {},
   "outputs": [],
   "source": [
    "# Q3. The abc Module in Python:\n",
    "# The abc module in Python stands for \"Abstract Base Classes.\" It provides the infrastructure for defining abstract classes and interfaces.\n",
    "# Abstract Base Classes (ABCs) are classes that cannot be instantiated directly but serve as templates for other classes to inherit from.\n",
    "\n",
    "# The abc module includes the ABC class and the abstractmethod decorator.\n",
    "# To create an abstract class, we inherit from ABC and decorate the abstract methods with abstractmethod. \n",
    "# Any class that inherits from an abstract class must provide concrete implementations for all abstract methods."
   ]
  },
  {
   "cell_type": "code",
   "execution_count": null,
   "id": "11676623-7760-46cd-95c9-cc2e978dbc6d",
   "metadata": {},
   "outputs": [],
   "source": [
    "# Q4. Achieving Data Abstraction:\n",
    "# Data abstraction can be achieved through encapsulation. By making the attributes of a class private and providing getter and setter methods,\n",
    "# you can abstract the internal details of the class and expose only necessary functionality to the outside world.\n",
    "# This way, the implementation details are hidden, and the user interacts with the class through a well-defined interface."
   ]
  },
  {
   "cell_type": "code",
   "execution_count": 2,
   "id": "9705a967-238f-40a0-97c6-9dda6ad83cbe",
   "metadata": {},
   "outputs": [
    {
     "name": "stdout",
     "output_type": "stream",
     "text": [
      "Can't instantiate abstract class AbstractClass with abstract method abstract_method\n"
     ]
    }
   ],
   "source": [
    "# Q5. Can we create an instance of an abstract class?\n",
    "# No, we cannot create an instance (object) of an abstract class directly. Abstract classes are incomplete and cannot be instantiated.\n",
    "# They serve as blueprints for other classes to inherit from and provide specific implementations for abstract methods.\n",
    "\n",
    "# If you try to create an instance of an abstract class directly, Python will raise an error.\n",
    "# To use an abstract class, you need to define a concrete subclass that provides implementations for all abstract methods.\n",
    "# Then, you can create objects from the concrete subclass.\n",
    "\n",
    "from abc import ABC, abstractmethod\n",
    "\n",
    "class AbstractClass(ABC):\n",
    "    @abstractmethod\n",
    "    def abstract_method(self):\n",
    "        pass\n",
    "\n",
    "# Trying to create an instance of the abstract class\n",
    "try:\n",
    "    obj = AbstractClass()  # Raises TypeError: Can't instantiate abstract class AbstractClass with abstract methods abstract_method\n",
    "except TypeError as e:\n",
    "    print(e)\n"
   ]
  }
 ],
 "metadata": {
  "kernelspec": {
   "display_name": "Python 3 (ipykernel)",
   "language": "python",
   "name": "python3"
  },
  "language_info": {
   "codemirror_mode": {
    "name": "ipython",
    "version": 3
   },
   "file_extension": ".py",
   "mimetype": "text/x-python",
   "name": "python",
   "nbconvert_exporter": "python",
   "pygments_lexer": "ipython3",
   "version": "3.10.8"
  }
 },
 "nbformat": 4,
 "nbformat_minor": 5
}
