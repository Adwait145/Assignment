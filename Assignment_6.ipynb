{
 "cells": [
  {
   "cell_type": "code",
   "execution_count": 4,
   "id": "e09fea96-226e-479b-9436-3b386359c009",
   "metadata": {},
   "outputs": [
    {
     "name": "stdout",
     "output_type": "stream",
     "text": [
      "Car is accelerating.\n",
      "Cannot accelerate. Engine is not running.\n"
     ]
    }
   ],
   "source": [
    "# Q1.\n",
    "\"\"\"In Object-Oriented Programming (OOP), a class is a blueprint or template that defines the structure and behavior of objects.\n",
    "It encapsulates data (attributes) and methods (functions) that represent the characteristics and actions that objects of that class can have. \n",
    "An object, on the other hand, is an instance of a class—an actual entity created from the class blueprint, with its own unique data and state.\"\"\"\n",
    "\n",
    "\"\"\"Let's consider a class Car as an example.\n",
    "It represents the blueprint for creating car objects. \n",
    "The class will have attributes like make, model, and color, and methods like start_engine() and accelerate(). \n",
    "Each individual car instance (object) created from this class will have its own specific make, model, color, and state (e.g., running or stopped).\"\"\"\n",
    "\n",
    "class Car:\n",
    "    def __init__(self, make, model, color):\n",
    "        self.make = make\n",
    "        self.model = model\n",
    "        self.color = color\n",
    "        self.engine_status = \"stopped\"\n",
    "\n",
    "    def start_engine(self):\n",
    "        self.engine_status = \"running\"\n",
    "\n",
    "    def accelerate(self):\n",
    "        if self.engine_status == \"running\":\n",
    "            print(\"Car is accelerating.\")\n",
    "        else:\n",
    "            print(\"Cannot accelerate. Engine is not running.\")\n",
    "\n",
    "# Creating car objects from the Car class\n",
    "car1 = Car(\"Toyota\", \"Corolla\", \"Blue\")\n",
    "car2 = Car(\"Honda\", \"Civic\", \"Red\")\n",
    "\n",
    "# Using object methods\n",
    "car1.start_engine()\n",
    "car1.accelerate()  # Output: Car is accelerating.\n",
    "\n",
    "car2.accelerate()  # Output: Cannot accelerate. Engine is not running.\n"
   ]
  },
  {
   "cell_type": "code",
   "execution_count": 12,
   "id": "83714231-613f-435f-aac1-37fae457cf04",
   "metadata": {},
   "outputs": [
    {
     "data": {
      "text/plain": [
       "' The Four Pillars of OOPs:\\nThe four pillars of Object-Oriented Programming are:\\n\\nEncapsulation: Encapsulation is the bundling of data (attributes) and methods (functions) that operate on that data within a single unit\\n(i.e., the class). It hides the internal implementation details of an object and provides a clean interface for interacting with it.\\n\\nAbstraction: Abstraction focuses on showing only relevant information to the outside world and hiding unnecessary details.\\nIt allows the creation of simplified interfaces, making it easier to work with complex systems.\\n\\nInheritance: Inheritance is the mechanism that allows a class (subclass) to inherit properties and behaviors from another class (superclass). It promotes code reuse and hierarchical organization of classes.\\n\\nPolymorphism: Polymorphism allows objects to be treated as instances of their superclass.\\nThis means that objects of different classes can be used interchangeably if they share a common superclass.\\nPolymorphism is achieved through method overriding and method overloading.'"
      ]
     },
     "execution_count": 12,
     "metadata": {},
     "output_type": "execute_result"
    }
   ],
   "source": [
    "# Q2.\n",
    "\"\"\" The Four Pillars of OOPs:\n",
    "The four pillars of Object-Oriented Programming are:\n",
    "\n",
    "Encapsulation: Encapsulation is the bundling of data (attributes) and methods (functions) that operate on that data within a single unit\n",
    "(i.e., the class). It hides the internal implementation details of an object and provides a clean interface for interacting with it.\n",
    "\n",
    "Abstraction: Abstraction focuses on showing only relevant information to the outside world and hiding unnecessary details.\n",
    "It allows the creation of simplified interfaces, making it easier to work with complex systems.\n",
    "\n",
    "Inheritance: Inheritance is the mechanism that allows a class (subclass) to inherit properties and behaviors from another class (superclass). It promotes code reuse and hierarchical organization of classes.\n",
    "\n",
    "Polymorphism: Polymorphism allows objects to be treated as instances of their superclass.\n",
    "This means that objects of different classes can be used interchangeably if they share a common superclass.\n",
    "Polymorphism is achieved through method overriding and method overloading.\"\"\""
   ]
  },
  {
   "cell_type": "code",
   "execution_count": null,
   "id": "21c7a84e-82aa-47df-bb64-4370730a028b",
   "metadata": {},
   "outputs": [],
   "source": [
    "# Q3.\n",
    "\"\"\"The __init__() function is a special method in Python classes, also known as the constructor.\n",
    "It is automatically called when an object is created from the class and is used to initialize the object's attributes.\n",
    "The __init__() method can take arguments, allowing you to set initial values for the object's attributes during instantiation.\"\"\"\n",
    "\n",
    "class Car:\n",
    "    def __init__(self, make, model, color):\n",
    "        self.make = make\n",
    "        self.model = model\n",
    "        self.color = color\n",
    "        self.engine_status = \"stopped\"\n",
    "\n",
    "\n"
   ]
  },
  {
   "cell_type": "code",
   "execution_count": null,
   "id": "1b80eb87-6979-4755-a745-97e13bb099e0",
   "metadata": {},
   "outputs": [],
   "source": [
    "# Q4.\n",
    "\"\"\"In Python OOP, self is a convention used as the first parameter of instance methods (including __init__()). \n",
    "It represents the instance (object) that the method is being called on, and it allows methods to access and modify the object's\n",
    "attributes and call other methods within the class.\n",
    "When calling an instance method, Python automatically passes the instance itself as the first argument,\n",
    "which is typically represented by self. It helps differentiate between instance attributes and local variables within the method.\"\"\""
   ]
  },
  {
   "cell_type": "code",
   "execution_count": 3,
   "id": "be9fe5f2-5347-406a-8136-0eed5e5f857a",
   "metadata": {},
   "outputs": [
    {
     "name": "stdout",
     "output_type": "stream",
     "text": [
      "Woof! Woof!\n",
      "Some generic animal sound.\n",
      "Flying high!\n",
      "Some generic animal sound.\n",
      "Feeding milk to the offspring.\n",
      "Meow! Meow!\n",
      "Moo! Moo!\n"
     ]
    }
   ],
   "source": [
    "# Q5.\n",
    "\"\"\"Inheritance is a fundamental concept in OOP, where one class (subclass/derived class) can inherit attributes and methods from another class (superclass/base class). \n",
    "The subclass acquires the properties of the superclass, allowing code reuse and promoting hierarchical organization of classes.\"\"\"\n",
    "\n",
    "#Example for Each Type of Inheritance:\n",
    "\n",
    "\"\"\"Single Inheritance:\n",
    "In single inheritance, a subclass inherits from a single superclass.\n",
    "python\"\"\"\n",
    "\n",
    "class Animal:\n",
    "    def sound(self):\n",
    "        return \"Some generic animal sound.\"\n",
    "\n",
    "\n",
    "class Dog(Animal):\n",
    "    def sound(self):\n",
    "        return \"Woof! Woof!\"\n",
    "\n",
    "dog = Dog()\n",
    "print(dog.sound())  # Output: Woof! Woof!\n",
    "\n",
    "# Multiple Inheritance:\n",
    "# In multiple inheritance, a subclass inherits from multiple superclasses.\n",
    "\n",
    "class Flyable:\n",
    "    def fly(self):\n",
    "        return \"Flying high!\"\n",
    "\n",
    "\n",
    "class Bird(Animal, Flyable):\n",
    "    pass\n",
    "\n",
    "bird = Bird()\n",
    "print(bird.sound())  # Output: Some generic animal sound.\n",
    "print(bird.fly())   # Output: Flying high!\n",
    "\n",
    "# Multilevel Inheritance:\n",
    "# In multilevel inheritance, a subclass inherits from a superclass, which in turn inherits from another superclass.\n",
    "\n",
    "class Mammal(Animal):\n",
    "    def feed_offspring(self):\n",
    "        return \"Feeding milk to the offspring.\"\n",
    "\n",
    "\n",
    "class Human(Mammal):\n",
    "    pass\n",
    "\n",
    "human = Human()\n",
    "print(human.sound())           # Output: Some generic animal sound.\n",
    "print(human.feed_offspring())  # Output: Feeding milk to the offspring.\n",
    "\n",
    "# Hierarchical Inheritance:\n",
    "# In hierarchical inheritance, multiple subclasses inherit from the same superclass.\n",
    "\n",
    "class Cat(Animal):\n",
    "    def sound(self):\n",
    "        return \"Meow! Meow!\"\n",
    "\n",
    "\n",
    "class Cow(Animal):\n",
    "    def sound(self):\n",
    "        return \"Moo! Moo!\"\n",
    "\n",
    "cat = Cat()\n",
    "cow = Cow()\n",
    "print(cat.sound())  # Output: Meow! Meow!\n",
    "print(cow.sound())  # Output: Moo! Moo!\n",
    "#These examples demonstrate different types of inheritance in Python, \n",
    "#showcasing how subclasses can inherit and override attributes and methods from their superclasses."
   ]
  }
 ],
 "metadata": {
  "kernelspec": {
   "display_name": "Python 3 (ipykernel)",
   "language": "python",
   "name": "python3"
  },
  "language_info": {
   "codemirror_mode": {
    "name": "ipython",
    "version": 3
   },
   "file_extension": ".py",
   "mimetype": "text/x-python",
   "name": "python",
   "nbconvert_exporter": "python",
   "pygments_lexer": "ipython3",
   "version": "3.10.8"
  }
 },
 "nbformat": 4,
 "nbformat_minor": 5
}
